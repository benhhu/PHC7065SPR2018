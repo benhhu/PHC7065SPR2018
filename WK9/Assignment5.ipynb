{
 "cells": [
  {
   "cell_type": "markdown",
   "metadata": {},
   "source": [
    "# Assignment 5"
   ]
  },
  {
   "cell_type": "markdown",
   "metadata": {},
   "source": [
    "## Part 1. Spatial Data (50 pts)"
   ]
  },
  {
   "cell_type": "markdown",
   "metadata": {},
   "source": [
    "### 1. Import the two shapefiles in \"data/shp\" to PostGIS database \"postgisdb\". You will need to find the corresponding SRIDs to import these shapefiles (http://prj2epsg.org/search). Please do this in the terminal and paste your codes in the cell below. (10 pts)\n",
    "- epaegrid_2014: US EPA EMISSIONS AND GENERATION RESOURCE INTEGRATED DATABASE (EGRID 2014) FOR ELECTRICITY GENERATING PLANTS IN FLORIDA (http://www.fgdl.org/metadataexplorer/full_metadata.jsp?docId=%7BC803F7BA-A87A-41A1-8AEF-7F31F9BE9E35%7D&loggedIn=false). Import this to the database \"postgisdb\" as \"epaegrid\"\n",
    "- tl_2016_12_bg: Census Block Group Boundaries (Florida). Import this to the database \"postgisdb\" as \"flbg\""
   ]
  },
  {
   "cell_type": "code",
   "execution_count": null,
   "metadata": {
    "collapsed": true
   },
   "outputs": [],
   "source": []
  },
  {
   "cell_type": "markdown",
   "metadata": {},
   "source": [
    "### 2. Use the \"flbg\" you just imported to the database \"postgisdb\" to create a census tract map by merging all geometries that share the same first 11 digits in \"geoid\", save it as \"fltract\" in the \"postgisdb\". The table \"fltract\" should include two columns: \"tractid\" and \"geom\". (10 pts)"
   ]
  },
  {
   "cell_type": "code",
   "execution_count": null,
   "metadata": {
    "collapsed": true
   },
   "outputs": [],
   "source": []
  },
  {
   "cell_type": "markdown",
   "metadata": {},
   "source": [
    "### 3. Project \"fltract\" to the same SRID used by \"epaegrid\". Save the projected table as \"fltractprj\" (10 pts)"
   ]
  },
  {
   "cell_type": "code",
   "execution_count": null,
   "metadata": {
    "collapsed": true
   },
   "outputs": [],
   "source": []
  },
  {
   "cell_type": "markdown",
   "metadata": {},
   "source": [
    "### 4. Use the \"fltractprj\" table to generate the cenroid point for each tract in Florida, and save it as \"fltractprjcentroid\" in \"postgisdb\" (10 pts)"
   ]
  },
  {
   "cell_type": "code",
   "execution_count": null,
   "metadata": {
    "collapsed": true
   },
   "outputs": [],
   "source": []
  },
  {
   "cell_type": "markdown",
   "metadata": {},
   "source": [
    "### 5. Find out the closest 5 plants to the centroid of the tract \"12001001000\". Include \"pname\", \"oprname\", and distance in the results. (10 pts)"
   ]
  },
  {
   "cell_type": "code",
   "execution_count": null,
   "metadata": {
    "collapsed": true
   },
   "outputs": [],
   "source": []
  },
  {
   "cell_type": "markdown",
   "metadata": {},
   "source": [
    "## Part 2. Text Data (50 pts)"
   ]
  },
  {
   "cell_type": "markdown",
   "metadata": {},
   "source": [
    "### 1. Use TweetTokenizer to tokenize the negative tweets \"data/negative_tweets.json\". Save the tweet tokens as \"tweets_tokens\", and print these tweet tokens. (15 pts)"
   ]
  },
  {
   "cell_type": "code",
   "execution_count": null,
   "metadata": {
    "collapsed": true
   },
   "outputs": [],
   "source": []
  },
  {
   "cell_type": "markdown",
   "metadata": {},
   "source": [
    "### 2. Add POS tags to the tweet tokens, and count the number of 'NNP' and 'WRB' tags. (15 pts)"
   ]
  },
  {
   "cell_type": "code",
   "execution_count": null,
   "metadata": {
    "collapsed": true
   },
   "outputs": [],
   "source": []
  },
  {
   "cell_type": "markdown",
   "metadata": {},
   "source": [
    "### 3. Train a Word2vec model using the \"unlabeledTrainData.tsv\" with a dimensionality of 400, minimum word cout of 30, context window size of 12, and downsampling of 1e-3. Get the numeric representation of the word \"florida\" using the trained Word2vec model. (20 pts)"
   ]
  },
  {
   "cell_type": "code",
   "execution_count": null,
   "metadata": {
    "collapsed": true
   },
   "outputs": [],
   "source": []
  }
 ],
 "metadata": {
  "kernelspec": {
   "display_name": "Python 2",
   "language": "python",
   "name": "python2"
  },
  "language_info": {
   "codemirror_mode": {
    "name": "ipython",
    "version": 2
   },
   "file_extension": ".py",
   "mimetype": "text/x-python",
   "name": "python",
   "nbconvert_exporter": "python",
   "pygments_lexer": "ipython2",
   "version": "2.7.12"
  }
 },
 "nbformat": 4,
 "nbformat_minor": 2
}
