{
 "cells": [
  {
   "cell_type": "markdown",
   "metadata": {},
   "source": [
    "# Assignment 3"
   ]
  },
  {
   "cell_type": "markdown",
   "metadata": {},
   "source": [
    "## 1. Import \"tweet.json\" as a collection named \"Tweets\" to the database \"phc7065\" in MongoDB (10 pts)"
   ]
  },
  {
   "cell_type": "code",
   "execution_count": null,
   "metadata": {},
   "outputs": [],
   "source": []
  },
  {
   "cell_type": "markdown",
   "metadata": {},
   "source": [
    "## 2. Print out one tweet (10 pts)"
   ]
  },
  {
   "cell_type": "code",
   "execution_count": null,
   "metadata": {},
   "outputs": [],
   "source": []
  },
  {
   "cell_type": "markdown",
   "metadata": {},
   "source": [
    "## 3. Show the total number of tweets (10 pts)"
   ]
  },
  {
   "cell_type": "code",
   "execution_count": null,
   "metadata": {},
   "outputs": [],
   "source": []
  },
  {
   "cell_type": "markdown",
   "metadata": {},
   "source": [
    "## 4. How many unique nonmissing values of the \"geo\" attribute exist? (10 pts)"
   ]
  },
  {
   "cell_type": "code",
   "execution_count": null,
   "metadata": {},
   "outputs": [],
   "source": []
  },
  {
   "cell_type": "markdown",
   "metadata": {},
   "source": [
    "## 5. Find out the number of tweets with \"favorite_count\" greater than 10,000 (10 pts)"
   ]
  },
  {
   "cell_type": "code",
   "execution_count": null,
   "metadata": {},
   "outputs": [],
   "source": []
  },
  {
   "cell_type": "markdown",
   "metadata": {},
   "source": [
    "## 6. Use text search to find out tweets with the attribute \"text\" containing the string \"MAGA\". Print the \"text\" attribute of these tweets and sort them by \"textScore\" (10 pts)"
   ]
  },
  {
   "cell_type": "code",
   "execution_count": null,
   "metadata": {},
   "outputs": [],
   "source": []
  },
  {
   "cell_type": "markdown",
   "metadata": {},
   "source": [
    "## 7. Show the number of tweets with \"entities.hashtags.text\"=\"MAGA\" or with \"favorite_count\" >50,000 (10 pts)"
   ]
  },
  {
   "cell_type": "code",
   "execution_count": null,
   "metadata": {},
   "outputs": [],
   "source": []
  },
  {
   "cell_type": "markdown",
   "metadata": {
    "collapsed": true
   },
   "source": [
    "## 8. Extract the values of the attributes \"created_at\",\"geo\",\"text\",\"retweet_count\", and \"user.screen_name\", and save them as a list named \"listTweets\". Print out the first two elements in the list. (10 pts) "
   ]
  },
  {
   "cell_type": "code",
   "execution_count": null,
   "metadata": {},
   "outputs": [],
   "source": []
  },
  {
   "cell_type": "markdown",
   "metadata": {},
   "source": [
    "## 9. You may notice that user's screen name is still in a nested structure. For this question, please try to get rid of the nested structure. Print out the first two elements after you make the changes(10 pts)\n",
    "Use the first element of the list as an example:\n",
    "[{u'created_at': u'Tue Aug 23 13:53:11 +0000 2016',\n",
    "  u'geo': None,\n",
    "  u'retweet_count': 2301,\n",
    "  u'text': u'It is being reported by virtually everyone, and is a fact,  that the media pile on against me is the worst in American political history!',\n",
    "  u'user': {u'screen_name': u'realDonaldTrump'}}\n",
    "\n",
    "After you make the changes, it should look like:\n",
    "[{u'created_at': u'Tue Aug 23 13:53:11 +0000 2016',\n",
    "  u'geo': None,\n",
    "  u'retweet_count': 2301,\n",
    "  u'text': u'It is being reported by virtually everyone, and is a fact,  that the media pile on against me is the worst in American political history!',\n",
    "  u'user.screen_name': u'realDonaldTrump'}"
   ]
  },
  {
   "cell_type": "code",
   "execution_count": null,
   "metadata": {},
   "outputs": [],
   "source": []
  },
  {
   "cell_type": "markdown",
   "metadata": {},
   "source": [
    "## 10. convert the list to a pandas dataframe named \"tweets\". Print out the first five rows of the dataframe \"tweets\". (10 pts)"
   ]
  },
  {
   "cell_type": "code",
   "execution_count": null,
   "metadata": {
    "collapsed": true
   },
   "outputs": [],
   "source": []
  }
 ],
 "metadata": {
  "kernelspec": {
   "display_name": "Python 2",
   "language": "python",
   "name": "python2"
  },
  "language_info": {
   "codemirror_mode": {
    "name": "ipython",
    "version": 2
   },
   "file_extension": ".py",
   "mimetype": "text/x-python",
   "name": "python",
   "nbconvert_exporter": "python",
   "pygments_lexer": "ipython2",
   "version": "2.7.12"
  }
 },
 "nbformat": 4,
 "nbformat_minor": 2
}
