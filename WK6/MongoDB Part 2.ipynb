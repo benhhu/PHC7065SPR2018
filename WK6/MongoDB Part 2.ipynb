{
 "cells": [
  {
   "cell_type": "markdown",
   "metadata": {},
   "source": [
    "# MongoDB Part 2"
   ]
  },
  {
   "cell_type": "code",
   "execution_count": 6,
   "metadata": {},
   "outputs": [],
   "source": [
    "from pymongo import MongoClient"
   ]
  },
  {
   "cell_type": "code",
   "execution_count": 7,
   "metadata": {},
   "outputs": [],
   "source": [
    "# Create a MongoClient against the running mongod instance\n",
    "client = MongoClient('localhost:27017')\n",
    "# client = MongoClient('localhost',27017)\n",
    "# client = MongoClient('mongodb://localhost:27017/')"
   ]
  },
  {
   "cell_type": "code",
   "execution_count": 8,
   "metadata": {},
   "outputs": [],
   "source": [
    "# Accessing a database\n",
    "# MongoDB creates new databases implicitly upon their first use (lazy creation)\n",
    "mydb = client.phc7065\n",
    "# mydb = client['phc7065']"
   ]
  },
  {
   "cell_type": "code",
   "execution_count": 9,
   "metadata": {},
   "outputs": [],
   "source": [
    "# Documents in dictionary\n",
    "student1 = {\"_id\":1,\n",
    "            \"name\": \"John\",\n",
    "            \"hometown\": \"Gainesville, Florida\",\n",
    "            \"age\":20,\n",
    "            \"courses\": [\"a\",\"b\",\"c\"],\n",
    "            \"department\": \"a\",\n",
    "            \"college\": \"a\"\n",
    "           }\n",
    "student2 = {\"_id\":2,\n",
    "            \"name\": \"Mike\",\n",
    "            \"hometown\": \"Gainesville, Georgia\",\n",
    "            \"age\":23,\n",
    "            \"courses\": [\"b\",\"a\",\"c\"],\n",
    "            \"department\": \"b\",\n",
    "            \"college\": \"b\"\n",
    "           }\n",
    "student3 = {\"_id\":3,\n",
    "            \"name\": \"Tom\",\n",
    "            \"hometown\": \"Miami, Florida\",\n",
    "            \"age\":19,\n",
    "            \"courses\": [\"c\",\"b\",\"a\"],\n",
    "            \"department\": \"b\",\n",
    "            \"college\":\"b\"\n",
    "           }\n",
    "student4 = {\"_id\":4,\n",
    "            \"name\": \"Joe\",\n",
    "            \"hometown\": \"Jacksonville, Florida\",\n",
    "            \"age\":19,\n",
    "            \"courses\": [\"d\",\"e\"],\n",
    "            \"department\": \"a\",\n",
    "            \"college\": \"c\"\n",
    "           }"
   ]
  },
  {
   "cell_type": "code",
   "execution_count": 10,
   "metadata": {},
   "outputs": [
    {
     "data": {
      "text/plain": [
       "<pymongo.results.InsertManyResult at 0x7fe9781c7050>"
      ]
     },
     "execution_count": 10,
     "metadata": {},
     "output_type": "execute_result"
    }
   ],
   "source": [
    "mydb.Students2.drop()\n",
    "# Document Insert\n",
    "mydb.Students2.insert_many([student1,student2,student3,student4])"
   ]
  },
  {
   "cell_type": "code",
   "execution_count": 11,
   "metadata": {},
   "outputs": [
    {
     "name": "stdout",
     "output_type": "stream",
     "text": [
      "{u'name': u'John', u'hometown': u'Gainesville, Florida', u'age': 20, u'courses': [u'a', u'b', u'c'], u'college': u'a', u'department': u'a', u'_id': 1}\n",
      "{u'name': u'Mike', u'hometown': u'Gainesville, Georgia', u'age': 23, u'courses': [u'b', u'a', u'c'], u'college': u'b', u'department': u'b', u'_id': 2}\n",
      "{u'name': u'Tom', u'hometown': u'Miami, Florida', u'age': 19, u'courses': [u'c', u'b', u'a'], u'college': u'b', u'department': u'b', u'_id': 3}\n",
      "{u'name': u'Joe', u'hometown': u'Jacksonville, Florida', u'age': 19, u'courses': [u'd', u'e'], u'college': u'c', u'department': u'a', u'_id': 4}\n"
     ]
    }
   ],
   "source": [
    "for student in mydb.Students2.find():\n",
    "    print student"
   ]
  },
  {
   "cell_type": "markdown",
   "metadata": {},
   "source": [
    "## Counting and Distinct"
   ]
  },
  {
   "cell_type": "code",
   "execution_count": 12,
   "metadata": {},
   "outputs": [
    {
     "data": {
      "text/plain": [
       "4"
      ]
     },
     "execution_count": 12,
     "metadata": {},
     "output_type": "execute_result"
    }
   ],
   "source": [
    "mydb.Students2.count({'age':{'$exists':True}})"
   ]
  },
  {
   "cell_type": "code",
   "execution_count": 13,
   "metadata": {},
   "outputs": [
    {
     "data": {
      "text/plain": [
       "4"
      ]
     },
     "execution_count": 13,
     "metadata": {},
     "output_type": "execute_result"
    }
   ],
   "source": [
    "mydb.Students2.count('age')"
   ]
  },
  {
   "cell_type": "code",
   "execution_count": 14,
   "metadata": {},
   "outputs": [
    {
     "data": {
      "text/plain": [
       "3"
      ]
     },
     "execution_count": 14,
     "metadata": {},
     "output_type": "execute_result"
    }
   ],
   "source": [
    "len(mydb.Students2.distinct('age'))"
   ]
  },
  {
   "cell_type": "markdown",
   "metadata": {},
   "source": [
    "## Aggregation"
   ]
  },
  {
   "cell_type": "code",
   "execution_count": 15,
   "metadata": {},
   "outputs": [
    {
     "name": "stdout",
     "output_type": "stream",
     "text": [
      "{u'_id': u'b', u'meanAge': 21.0}\n",
      "{u'_id': u'a', u'meanAge': 19.5}\n"
     ]
    }
   ],
   "source": [
    "res = mydb.Students2.aggregate([\n",
    "    {'$group':{'_id':'$department','meanAge':{'$avg':'$age'}}}\n",
    "])\n",
    "\n",
    "for r in res:\n",
    "    print r"
   ]
  },
  {
   "cell_type": "code",
   "execution_count": 16,
   "metadata": {},
   "outputs": [
    {
     "name": "stdout",
     "output_type": "stream",
     "text": [
      "{u'_id': u'department', u'meanAge': None}\n"
     ]
    }
   ],
   "source": [
    "res = mydb.Students2.aggregate([\n",
    "    {'$group':{'_id':'department','meanAge':{'$avg':'age'}}}\n",
    "])\n",
    "\n",
    "for r in res:\n",
    "    print r"
   ]
  },
  {
   "cell_type": "code",
   "execution_count": 17,
   "metadata": {},
   "outputs": [
    {
     "name": "stdout",
     "output_type": "stream",
     "text": [
      "{u'_id': u'b', u'meanAge': 21.0}\n",
      "{u'_id': u'a', u'meanAge': 20.0}\n"
     ]
    }
   ],
   "source": [
    "res = mydb.Students2.aggregate([\n",
    "    {'$match':{'courses':{'$in':['a']}}},\n",
    "    {'$group':{'_id':'$department','meanAge':{'$avg':'$age'}}}\n",
    "])\n",
    "\n",
    "for r in res:\n",
    "    print r"
   ]
  },
  {
   "cell_type": "code",
   "execution_count": 18,
   "metadata": {},
   "outputs": [
    {
     "name": "stdout",
     "output_type": "stream",
     "text": [
      "{u'_id': u'b', u'meanAge': 21.0}\n",
      "{u'_id': u'a', u'meanAge': 20.0}\n"
     ]
    }
   ],
   "source": [
    "res = mydb.Students2.aggregate([\n",
    "    {'$match':{'courses':'a'}},\n",
    "    {'$group':{'_id':'$department','meanAge':{'$avg':'$age'}}}\n",
    "])\n",
    "\n",
    "for r in res:\n",
    "    print r"
   ]
  },
  {
   "cell_type": "code",
   "execution_count": 19,
   "metadata": {},
   "outputs": [
    {
     "name": "stdout",
     "output_type": "stream",
     "text": [
      "{u'_id': {u'department': u'a', u'college': u'c'}, u'meanAge': 19.0}\n",
      "{u'_id': {u'department': u'a', u'college': u'a'}, u'meanAge': 20.0}\n",
      "{u'_id': {u'department': u'b', u'college': u'b'}, u'meanAge': 21.0}\n"
     ]
    }
   ],
   "source": [
    "#multi-attribute aggregation\n",
    "res = mydb.Students2.aggregate([\n",
    "    {'$group':{'_id':{'department':'$department','college':'$college'},'meanAge':{'$avg':'$age'}}},\n",
    "    {'$sort':{'meanAge':1}}\n",
    "])\n",
    "\n",
    "for r in res:\n",
    "    print r"
   ]
  },
  {
   "cell_type": "code",
   "execution_count": 20,
   "metadata": {},
   "outputs": [
    {
     "name": "stdout",
     "output_type": "stream",
     "text": [
      "{u'hometown': u'Miami, Florida', u'_id': 3, u'name': u'Tom'}\n",
      "{u'hometown': u'Gainesville, Florida', u'_id': 1, u'name': u'John'}\n",
      "{u'hometown': u'Jacksonville, Florida', u'_id': 4, u'name': u'Joe'}\n"
     ]
    }
   ],
   "source": [
    "#aggregation with text search\n",
    "from pymongo import TEXT\n",
    "\n",
    "#create a text index\n",
    "mydb.Students2.create_index([('hometown',TEXT)])\n",
    "\n",
    "\n",
    "res = mydb.Students2.aggregate([\n",
    "    {'$match':{'$text':{'$search':'Miami Florida'}}},\n",
    "    {'$sort':{'score':{'$meta':'textScore'}}},\n",
    "    {'$project':{'hometown':1,'name':1}}\n",
    "])\n",
    "\n",
    "for r in res:\n",
    "    print r\n"
   ]
  },
  {
   "cell_type": "markdown",
   "metadata": {},
   "source": [
    "## Join"
   ]
  },
  {
   "cell_type": "code",
   "execution_count": 21,
   "metadata": {},
   "outputs": [],
   "source": [
    "# Create some data\n",
    "college1 = {\"_id\":1,\n",
    "            \"name\": \"a\",\n",
    "            \"nStudents\": 300\n",
    "           }\n",
    "college2 = {\"_id\":2,\n",
    "            \"name\": \"b\",\n",
    "            \"nStudents\": 400\n",
    "           }\n",
    "college3 = {\"_id\":3,\n",
    "            \"name\": \"c\",\n",
    "            \"nStudents\": 500\n",
    "           }\n",
    "college4 = {\"_id\":4,\n",
    "            \"name\": \"d\",\n",
    "            \"nStudents\": 600\n",
    "           }"
   ]
  },
  {
   "cell_type": "code",
   "execution_count": 22,
   "metadata": {},
   "outputs": [
    {
     "data": {
      "text/plain": [
       "<pymongo.results.InsertManyResult at 0x7fe9781551b8>"
      ]
     },
     "execution_count": 22,
     "metadata": {},
     "output_type": "execute_result"
    }
   ],
   "source": [
    "mydb.Colleges.drop()\n",
    "# Document Insert\n",
    "mydb.Colleges.insert_many([college1,college2,college3,college4])"
   ]
  },
  {
   "cell_type": "code",
   "execution_count": 23,
   "metadata": {},
   "outputs": [
    {
     "name": "stdout",
     "output_type": "stream",
     "text": [
      "{u'name': u'John', u'hometown': u'Gainesville, Florida', u'age': 20, u'courses': [u'a', u'b', u'c'], u'college': u'a', u'department': u'a', u'_id': 1}\n",
      "{u'name': u'Mike', u'hometown': u'Gainesville, Georgia', u'age': 23, u'courses': [u'b', u'a', u'c'], u'college': u'b', u'department': u'b', u'_id': 2}\n",
      "{u'name': u'Tom', u'hometown': u'Miami, Florida', u'age': 19, u'courses': [u'c', u'b', u'a'], u'college': u'b', u'department': u'b', u'_id': 3}\n",
      "{u'name': u'Joe', u'hometown': u'Jacksonville, Florida', u'age': 19, u'courses': [u'd', u'e'], u'college': u'c', u'department': u'a', u'_id': 4}\n"
     ]
    }
   ],
   "source": [
    "for student in mydb.Students2.find():\n",
    "    print student"
   ]
  },
  {
   "cell_type": "code",
   "execution_count": 24,
   "metadata": {},
   "outputs": [
    {
     "name": "stdout",
     "output_type": "stream",
     "text": [
      "{u'nStudents': 300, u'_id': 1, u'name': u'a'}\n",
      "{u'nStudents': 400, u'_id': 2, u'name': u'b'}\n",
      "{u'nStudents': 500, u'_id': 3, u'name': u'c'}\n",
      "{u'nStudents': 600, u'_id': 4, u'name': u'd'}\n"
     ]
    }
   ],
   "source": [
    "for col in mydb.Colleges.find():\n",
    "    print col"
   ]
  },
  {
   "cell_type": "code",
   "execution_count": 25,
   "metadata": {},
   "outputs": [
    {
     "name": "stdout",
     "output_type": "stream",
     "text": [
      "{u'students': [{u'name': u'John', u'hometown': u'Gainesville, Florida', u'age': 20, u'courses': [u'a', u'b', u'c'], u'college': u'a', u'department': u'a', u'_id': 1}], u'nStudents': 300, u'_id': 1, u'name': u'a'}\n",
      "{u'students': [{u'name': u'Mike', u'hometown': u'Gainesville, Georgia', u'age': 23, u'courses': [u'b', u'a', u'c'], u'college': u'b', u'department': u'b', u'_id': 2}, {u'name': u'Tom', u'hometown': u'Miami, Florida', u'age': 19, u'courses': [u'c', u'b', u'a'], u'college': u'b', u'department': u'b', u'_id': 3}], u'nStudents': 400, u'_id': 2, u'name': u'b'}\n",
      "{u'students': [{u'name': u'Joe', u'hometown': u'Jacksonville, Florida', u'age': 19, u'courses': [u'd', u'e'], u'college': u'c', u'department': u'a', u'_id': 4}], u'nStudents': 500, u'_id': 3, u'name': u'c'}\n",
      "{u'students': [], u'nStudents': 600, u'_id': 4, u'name': u'd'}\n"
     ]
    }
   ],
   "source": [
    "res = mydb.Colleges.aggregate([\n",
    "    {\n",
    "        '$lookup':{\n",
    "            'from':'Students2',\n",
    "            'localField':'name',\n",
    "            'foreignField':'college',\n",
    "            'as':'students'\n",
    "        }\n",
    "    }\n",
    "])\n",
    "for r in res:\n",
    "    print r"
   ]
  },
  {
   "cell_type": "code",
   "execution_count": 26,
   "metadata": {},
   "outputs": [
    {
     "name": "stdout",
     "output_type": "stream",
     "text": [
      "{u'colleges': [{u'nStudents': 300, u'_id': 1, u'name': u'a'}], u'name': u'John', u'hometown': u'Gainesville, Florida', u'age': 20, u'courses': [u'a', u'b', u'c'], u'college': u'a', u'department': u'a', u'_id': 1}\n",
      "{u'colleges': [{u'nStudents': 400, u'_id': 2, u'name': u'b'}], u'name': u'Mike', u'hometown': u'Gainesville, Georgia', u'age': 23, u'courses': [u'b', u'a', u'c'], u'college': u'b', u'department': u'b', u'_id': 2}\n",
      "{u'colleges': [{u'nStudents': 400, u'_id': 2, u'name': u'b'}], u'name': u'Tom', u'hometown': u'Miami, Florida', u'age': 19, u'courses': [u'c', u'b', u'a'], u'college': u'b', u'department': u'b', u'_id': 3}\n",
      "{u'colleges': [{u'nStudents': 500, u'_id': 3, u'name': u'c'}], u'name': u'Joe', u'hometown': u'Jacksonville, Florida', u'age': 19, u'courses': [u'd', u'e'], u'college': u'c', u'department': u'a', u'_id': 4}\n"
     ]
    }
   ],
   "source": [
    "res = mydb.Students2.aggregate([\n",
    "    {\n",
    "        '$lookup':{\n",
    "            'from':'Colleges',\n",
    "            'localField':'college',\n",
    "            'foreignField':'name',\n",
    "            'as':'colleges'\n",
    "        }\n",
    "    }\n",
    "])\n",
    "for r in res:\n",
    "    print r"
   ]
  },
  {
   "cell_type": "code",
   "execution_count": 27,
   "metadata": {},
   "outputs": [
    {
     "data": {
      "text/html": [
       "<div>\n",
       "<style scoped>\n",
       "    .dataframe tbody tr th:only-of-type {\n",
       "        vertical-align: middle;\n",
       "    }\n",
       "\n",
       "    .dataframe tbody tr th {\n",
       "        vertical-align: top;\n",
       "    }\n",
       "\n",
       "    .dataframe thead th {\n",
       "        text-align: right;\n",
       "    }\n",
       "</style>\n",
       "<table border=\"1\" class=\"dataframe\">\n",
       "  <thead>\n",
       "    <tr style=\"text-align: right;\">\n",
       "      <th></th>\n",
       "    </tr>\n",
       "  </thead>\n",
       "  <tbody>\n",
       "  </tbody>\n",
       "</table>\n",
       "</div>"
      ],
      "text/plain": [
       "Empty DataFrame\n",
       "Columns: []\n",
       "Index: []"
      ]
     },
     "execution_count": 27,
     "metadata": {},
     "output_type": "execute_result"
    }
   ],
   "source": [
    "import pandas as pd\n",
    "pd.DataFrame(list(res))"
   ]
  },
  {
   "cell_type": "code",
   "execution_count": 28,
   "metadata": {},
   "outputs": [
    {
     "data": {
      "text/html": [
       "<div>\n",
       "<style scoped>\n",
       "    .dataframe tbody tr th:only-of-type {\n",
       "        vertical-align: middle;\n",
       "    }\n",
       "\n",
       "    .dataframe tbody tr th {\n",
       "        vertical-align: top;\n",
       "    }\n",
       "\n",
       "    .dataframe thead th {\n",
       "        text-align: right;\n",
       "    }\n",
       "</style>\n",
       "<table border=\"1\" class=\"dataframe\">\n",
       "  <thead>\n",
       "    <tr style=\"text-align: right;\">\n",
       "      <th></th>\n",
       "      <th>_id</th>\n",
       "      <th>age</th>\n",
       "      <th>college</th>\n",
       "      <th>colleges</th>\n",
       "      <th>courses</th>\n",
       "      <th>department</th>\n",
       "      <th>hometown</th>\n",
       "      <th>name</th>\n",
       "    </tr>\n",
       "  </thead>\n",
       "  <tbody>\n",
       "    <tr>\n",
       "      <th>0</th>\n",
       "      <td>1</td>\n",
       "      <td>20</td>\n",
       "      <td>a</td>\n",
       "      <td>[{u'nStudents': 300, u'_id': 1, u'name': u'a'}]</td>\n",
       "      <td>[a, b, c]</td>\n",
       "      <td>a</td>\n",
       "      <td>Gainesville, Florida</td>\n",
       "      <td>John</td>\n",
       "    </tr>\n",
       "    <tr>\n",
       "      <th>1</th>\n",
       "      <td>2</td>\n",
       "      <td>23</td>\n",
       "      <td>b</td>\n",
       "      <td>[{u'nStudents': 400, u'_id': 2, u'name': u'b'}]</td>\n",
       "      <td>[b, a, c]</td>\n",
       "      <td>b</td>\n",
       "      <td>Gainesville, Georgia</td>\n",
       "      <td>Mike</td>\n",
       "    </tr>\n",
       "    <tr>\n",
       "      <th>2</th>\n",
       "      <td>3</td>\n",
       "      <td>19</td>\n",
       "      <td>b</td>\n",
       "      <td>[{u'nStudents': 400, u'_id': 2, u'name': u'b'}]</td>\n",
       "      <td>[c, b, a]</td>\n",
       "      <td>b</td>\n",
       "      <td>Miami, Florida</td>\n",
       "      <td>Tom</td>\n",
       "    </tr>\n",
       "    <tr>\n",
       "      <th>3</th>\n",
       "      <td>4</td>\n",
       "      <td>19</td>\n",
       "      <td>c</td>\n",
       "      <td>[{u'nStudents': 500, u'_id': 3, u'name': u'c'}]</td>\n",
       "      <td>[d, e]</td>\n",
       "      <td>a</td>\n",
       "      <td>Jacksonville, Florida</td>\n",
       "      <td>Joe</td>\n",
       "    </tr>\n",
       "  </tbody>\n",
       "</table>\n",
       "</div>"
      ],
      "text/plain": [
       "   _id  age college                                         colleges  \\\n",
       "0    1   20       a  [{u'nStudents': 300, u'_id': 1, u'name': u'a'}]   \n",
       "1    2   23       b  [{u'nStudents': 400, u'_id': 2, u'name': u'b'}]   \n",
       "2    3   19       b  [{u'nStudents': 400, u'_id': 2, u'name': u'b'}]   \n",
       "3    4   19       c  [{u'nStudents': 500, u'_id': 3, u'name': u'c'}]   \n",
       "\n",
       "     courses department               hometown  name  \n",
       "0  [a, b, c]          a   Gainesville, Florida  John  \n",
       "1  [b, a, c]          b   Gainesville, Georgia  Mike  \n",
       "2  [c, b, a]          b         Miami, Florida   Tom  \n",
       "3     [d, e]          a  Jacksonville, Florida   Joe  "
      ]
     },
     "execution_count": 28,
     "metadata": {},
     "output_type": "execute_result"
    }
   ],
   "source": [
    "res=mydb.Students2.aggregate([\n",
    "    {\n",
    "        '$lookup':{\n",
    "            'from':'Colleges',\n",
    "            'localField':'college',\n",
    "            'foreignField':'name',\n",
    "            'as':'colleges'\n",
    "        }\n",
    "    }\n",
    "])\n",
    "pd.DataFrame(list(res))"
   ]
  },
  {
   "cell_type": "markdown",
   "metadata": {},
   "source": [
    "## Import JSON files to MongoDB"
   ]
  },
  {
   "cell_type": "code",
   "execution_count": 29,
   "metadata": {},
   "outputs": [
    {
     "name": "stdout",
     "output_type": "stream",
     "text": [
      "2018-02-15T15:38:35.014-0500\tconnected to: localhost\n",
      "2018-02-15T15:38:35.338-0500\timported 3207 documents\n"
     ]
    }
   ],
   "source": [
    "mydb.tweets.drop()\n",
    "!mongoimport --db phc7065 --collection tweets --type json --file tweet.json"
   ]
  },
  {
   "cell_type": "code",
   "execution_count": 30,
   "metadata": {},
   "outputs": [
    {
     "data": {
      "text/plain": [
       "{u'_id': ObjectId('5a85efcbd42fa31c50979466'),\n",
       " u'contributors': None,\n",
       " u'coordinates': None,\n",
       " u'created_at': u'Tue Aug 23 12:56:46 +0000 2016',\n",
       " u'entities': {u'hashtags': [],\n",
       "  u'symbols': [],\n",
       "  u'urls': [],\n",
       "  u'user_mentions': [{u'id': 1367531,\n",
       "    u'id_str': u'1367531',\n",
       "    u'indices': [72, 80],\n",
       "    u'name': u'Fox News',\n",
       "    u'screen_name': u'FoxNews'}]},\n",
       " u'favorite_count': 7826,\n",
       " u'favorited': False,\n",
       " u'geo': None,\n",
       " u'id': 768069472464666624L,\n",
       " u'id_str': u'768069472464666624',\n",
       " u'in_reply_to_screen_name': None,\n",
       " u'in_reply_to_status_id': None,\n",
       " u'in_reply_to_status_id_str': None,\n",
       " u'in_reply_to_user_id': None,\n",
       " u'in_reply_to_user_id_str': None,\n",
       " u'is_quote_status': False,\n",
       " u'lang': u'en',\n",
       " u'place': None,\n",
       " u'retweet_count': 2547,\n",
       " u'retweeted': False,\n",
       " u'source': u'<a href=\"http://twitter.com/download/android\" rel=\"nofollow\">Twitter for Android</a>',\n",
       " u'text': u'I am now in Texas doing a big fundraiser for the Republican Party and a @FoxNews Special on the BORDER and with victims of border crime!',\n",
       " u'truncated': False,\n",
       " u'user': {u'contributors_enabled': False,\n",
       "  u'created_at': u'Wed Mar 18 13:46:38 +0000 2009',\n",
       "  u'default_profile': False,\n",
       "  u'default_profile_image': False,\n",
       "  u'description': u'#TrumpPence16',\n",
       "  u'entities': {u'description': {u'urls': []},\n",
       "   u'url': {u'urls': [{u'display_url': u'DonaldJTrump.com',\n",
       "      u'expanded_url': u'http://www.DonaldJTrump.com',\n",
       "      u'indices': [0, 23],\n",
       "      u'url': u'https://t.co/mZB2hymxC9'}]}},\n",
       "  u'favourites_count': 35,\n",
       "  u'follow_request_sent': False,\n",
       "  u'followers_count': 11088848,\n",
       "  u'following': True,\n",
       "  u'friends_count': 42,\n",
       "  u'geo_enabled': True,\n",
       "  u'has_extended_profile': False,\n",
       "  u'id': 25073877,\n",
       "  u'id_str': u'25073877',\n",
       "  u'is_translation_enabled': True,\n",
       "  u'is_translator': False,\n",
       "  u'lang': u'en',\n",
       "  u'listed_count': 37760,\n",
       "  u'location': u'New York, NY',\n",
       "  u'name': u'Donald J. Trump',\n",
       "  u'notifications': False,\n",
       "  u'profile_background_color': u'6D5C18',\n",
       "  u'profile_background_image_url': u'http://pbs.twimg.com/profile_background_images/530021613/trump_scotland__43_of_70_cc.jpg',\n",
       "  u'profile_background_image_url_https': u'https://pbs.twimg.com/profile_background_images/530021613/trump_scotland__43_of_70_cc.jpg',\n",
       "  u'profile_background_tile': True,\n",
       "  u'profile_banner_url': u'https://pbs.twimg.com/profile_banners/25073877/1468988952',\n",
       "  u'profile_image_url': u'http://pbs.twimg.com/profile_images/1980294624/DJT_Headshot_V2_normal.jpg',\n",
       "  u'profile_image_url_https': u'https://pbs.twimg.com/profile_images/1980294624/DJT_Headshot_V2_normal.jpg',\n",
       "  u'profile_link_color': u'0D5B73',\n",
       "  u'profile_sidebar_border_color': u'BDDCAD',\n",
       "  u'profile_sidebar_fill_color': u'C5CEC0',\n",
       "  u'profile_text_color': u'333333',\n",
       "  u'profile_use_background_image': True,\n",
       "  u'protected': False,\n",
       "  u'screen_name': u'realDonaldTrump',\n",
       "  u'statuses_count': 32980,\n",
       "  u'time_zone': u'Eastern Time (US & Canada)',\n",
       "  u'url': u'https://t.co/mZB2hymxC9',\n",
       "  u'utc_offset': -14400,\n",
       "  u'verified': True}}"
      ]
     },
     "execution_count": 30,
     "metadata": {},
     "output_type": "execute_result"
    }
   ],
   "source": [
    "mydb.tweets.find_one()"
   ]
  },
  {
   "cell_type": "code",
   "execution_count": null,
   "metadata": {
    "collapsed": true
   },
   "outputs": [],
   "source": []
  }
 ],
 "metadata": {
  "kernelspec": {
   "display_name": "Python 2",
   "language": "python",
   "name": "python2"
  },
  "language_info": {
   "codemirror_mode": {
    "name": "ipython",
    "version": 2
   },
   "file_extension": ".py",
   "mimetype": "text/x-python",
   "name": "python",
   "nbconvert_exporter": "python",
   "pygments_lexer": "ipython2",
   "version": "2.7.12"
  }
 },
 "nbformat": 4,
 "nbformat_minor": 2
}
