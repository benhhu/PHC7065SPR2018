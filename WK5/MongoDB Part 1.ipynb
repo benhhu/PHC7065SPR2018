{
 "cells": [
  {
   "cell_type": "markdown",
   "metadata": {},
   "source": [
    "# MongoDB Part 1"
   ]
  },
  {
   "cell_type": "code",
   "execution_count": 1,
   "metadata": {},
   "outputs": [],
   "source": [
    "from pymongo import MongoClient"
   ]
  },
  {
   "cell_type": "code",
   "execution_count": 2,
   "metadata": {},
   "outputs": [],
   "source": [
    "# Create a MongoClient against the running mongod instance\n",
    "client = MongoClient('localhost:27017')\n",
    "# client = MongoClient('localhost',27017)\n",
    "# client = MongoClient('mongodb://localhost:27017/')"
   ]
  },
  {
   "cell_type": "code",
   "execution_count": 3,
   "metadata": {},
   "outputs": [],
   "source": [
    "# Accessing a database\n",
    "# MongoDB creates new databases implicitly upon their first use (lazy creation)\n",
    "mydb = client.phc7065\n",
    "# mydb = client['phc7065']"
   ]
  },
  {
   "cell_type": "code",
   "execution_count": 4,
   "metadata": {},
   "outputs": [],
   "source": [
    "# Accessing a collection\n",
    "# MongoDB call a group of documents stored in it as a collection. It is the equivalent of a table in a RDMBS\n",
    "my_collection = mydb.Students\n",
    "# my_collection = mydb['Students']"
   ]
  },
  {
   "cell_type": "code",
   "execution_count": 5,
   "metadata": {},
   "outputs": [],
   "source": [
    "# Documents in dictionary\n",
    "student1 = {\"_id\":1,\n",
    "            \"name\": \"John\",\n",
    "            \"age\":20,\n",
    "            \"courses\": [\"a\",\"b\",\"c\"]\n",
    "           }\n",
    "student2 = {\"_id\":2,\n",
    "            \"name\": \"Mike\",\n",
    "            \"age\":23,\n",
    "            \"courses\": [\"b\",\"a\",\"c\"]\n",
    "           }\n",
    "student3 = {\"_id\":3,\n",
    "            \"name\": \"Tom\",\n",
    "            \"age\":19,\n",
    "            \"courses\": [\"c\",\"b\",\"a\"]\n",
    "           }\n",
    "student4 = {\"_id\":4,\n",
    "            \"name\": \"Joe\",\n",
    "            \"age\":19,\n",
    "            \"courses\": [\"d\",\"e\"]\n",
    "           }"
   ]
  },
  {
   "cell_type": "code",
   "execution_count": 6,
   "metadata": {},
   "outputs": [
    {
     "data": {
      "text/plain": [
       "<pymongo.results.InsertOneResult at 0x7f200ac95b48>"
      ]
     },
     "execution_count": 6,
     "metadata": {},
     "output_type": "execute_result"
    }
   ],
   "source": [
    "mydb.Students.drop()\n",
    "# Document Insert\n",
    "mydb.Students.insert_one(student1)\n",
    "mydb.Students.insert_one(student2)\n",
    "mydb.Students.insert_one(student3)\n",
    "mydb.Students.insert_one(student4)"
   ]
  },
  {
   "cell_type": "code",
   "execution_count": 7,
   "metadata": {},
   "outputs": [
    {
     "name": "stdout",
     "output_type": "stream",
     "text": [
      "{u'courses': [u'a', u'b', u'c'], u'age': 20, u'_id': 1, u'name': u'John'}\n",
      "{u'courses': [u'b', u'a', u'c'], u'age': 23, u'_id': 2, u'name': u'Mike'}\n",
      "{u'courses': [u'c', u'b', u'a'], u'age': 19, u'_id': 3, u'name': u'Tom'}\n",
      "{u'courses': [u'd', u'e'], u'age': 19, u'_id': 4, u'name': u'Joe'}\n"
     ]
    }
   ],
   "source": [
    "for student in mydb.Students.find():\n",
    "    print student"
   ]
  },
  {
   "cell_type": "code",
   "execution_count": 8,
   "metadata": {},
   "outputs": [
    {
     "data": {
      "text/plain": [
       "<pymongo.results.InsertManyResult at 0x7f200acb03f8>"
      ]
     },
     "execution_count": 8,
     "metadata": {},
     "output_type": "execute_result"
    }
   ],
   "source": [
    "mydb.Students2.drop()\n",
    "# Document Insert\n",
    "mydb.Students2.insert_many([student1,student2,student3,student4])"
   ]
  },
  {
   "cell_type": "code",
   "execution_count": 9,
   "metadata": {},
   "outputs": [
    {
     "name": "stdout",
     "output_type": "stream",
     "text": [
      "{u'courses': [u'a', u'b', u'c'], u'age': 20, u'_id': 1, u'name': u'John'}\n",
      "{u'courses': [u'b', u'a', u'c'], u'age': 23, u'_id': 2, u'name': u'Mike'}\n",
      "{u'courses': [u'c', u'b', u'a'], u'age': 19, u'_id': 3, u'name': u'Tom'}\n",
      "{u'courses': [u'd', u'e'], u'age': 19, u'_id': 4, u'name': u'Joe'}\n"
     ]
    }
   ],
   "source": [
    "for student in mydb.Students2.find():\n",
    "    print student"
   ]
  },
  {
   "cell_type": "code",
   "execution_count": 10,
   "metadata": {},
   "outputs": [
    {
     "data": {
      "text/plain": [
       "[u'Students2', u'Students']"
      ]
     },
     "execution_count": 10,
     "metadata": {},
     "output_type": "execute_result"
    }
   ],
   "source": [
    "mydb.collection_names()"
   ]
  },
  {
   "cell_type": "code",
   "execution_count": 11,
   "metadata": {},
   "outputs": [
    {
     "name": "stdout",
     "output_type": "stream",
     "text": [
      "{u'age': 20}\n",
      "{u'age': 23}\n",
      "{u'age': 19}\n",
      "{u'age': 19}\n"
     ]
    }
   ],
   "source": [
    "for student in mydb.Students.find({},{'age':1,'_id':0}):\n",
    "    print student"
   ]
  },
  {
   "cell_type": "code",
   "execution_count": 12,
   "metadata": {},
   "outputs": [
    {
     "name": "stdout",
     "output_type": "stream",
     "text": [
      "{u'age': 20, u'_id': 1, u'name': u'John'}\n"
     ]
    }
   ],
   "source": [
    "for a in mydb.Students.find({'age':20},{'age':1,'name':1}):\n",
    "    print a"
   ]
  },
  {
   "cell_type": "code",
   "execution_count": 13,
   "metadata": {},
   "outputs": [
    {
     "data": {
      "text/plain": [
       "[20, 23, 19]"
      ]
     },
     "execution_count": 13,
     "metadata": {},
     "output_type": "execute_result"
    }
   ],
   "source": [
    " mydb.Students.distinct('age')"
   ]
  },
  {
   "cell_type": "code",
   "execution_count": 14,
   "metadata": {},
   "outputs": [
    {
     "name": "stdout",
     "output_type": "stream",
     "text": [
      "19\n"
     ]
    }
   ],
   "source": [
    "for student in mydb.Students.find({'age':19},{'age':1,'name':1}).distinct('age'):\n",
    "    print student"
   ]
  },
  {
   "cell_type": "code",
   "execution_count": 15,
   "metadata": {},
   "outputs": [
    {
     "name": "stdout",
     "output_type": "stream",
     "text": [
      "{u'age': 20, u'_id': 1, u'name': u'John'}\n",
      "{u'age': 23, u'_id': 2, u'name': u'Mike'}\n"
     ]
    }
   ],
   "source": [
    "for student in mydb.Students.find({'age':{'$gte':20}},{'age':1,'name':1}):\n",
    "    print student"
   ]
  },
  {
   "cell_type": "code",
   "execution_count": 16,
   "metadata": {},
   "outputs": [
    {
     "data": {
      "text/plain": [
       "{u'_id': 1, u'age': 20, u'courses': [u'a', u'b', u'c'], u'name': u'John'}"
      ]
     },
     "execution_count": 16,
     "metadata": {},
     "output_type": "execute_result"
    }
   ],
   "source": [
    "import re\n",
    "regx = re.compile(\"^joh\",re.IGNORECASE)\n",
    "mydb.Students.find_one({'name':regx})"
   ]
  },
  {
   "cell_type": "code",
   "execution_count": 17,
   "metadata": {},
   "outputs": [
    {
     "data": {
      "text/plain": [
       "{u'_id': 2, u'age': 23, u'courses': [u'b', u'a', u'c'], u'name': u'Mike'}"
      ]
     },
     "execution_count": 17,
     "metadata": {},
     "output_type": "execute_result"
    }
   ],
   "source": [
    "import re\n",
    "regx = re.compile(\"e$\",re.IGNORECASE)\n",
    "mydb.Students.find_one({'name':regx})"
   ]
  },
  {
   "cell_type": "code",
   "execution_count": 18,
   "metadata": {},
   "outputs": [
    {
     "data": {
      "text/plain": [
       "{u'_id': 1, u'age': 20, u'courses': [u'a', u'b', u'c'], u'name': u'John'}"
      ]
     },
     "execution_count": 18,
     "metadata": {},
     "output_type": "execute_result"
    }
   ],
   "source": [
    "import re\n",
    "regx = re.compile(\"^j.*n$\",re.IGNORECASE)\n",
    "mydb.Students.find_one({'name':regx})"
   ]
  },
  {
   "cell_type": "code",
   "execution_count": 19,
   "metadata": {},
   "outputs": [
    {
     "name": "stdout",
     "output_type": "stream",
     "text": [
      "{u'courses': [u'a', u'b', u'c'], u'age': 20, u'_id': 1, u'name': u'John'}\n",
      "{u'courses': [u'b', u'a', u'c'], u'age': 23, u'_id': 2, u'name': u'Mike'}\n",
      "{u'courses': [u'c', u'b', u'a'], u'age': 19, u'_id': 3, u'name': u'Tom'}\n"
     ]
    }
   ],
   "source": [
    "for student in mydb.Students.find({'courses':{'$in':['a','b']}}):\n",
    "    print student"
   ]
  },
  {
   "cell_type": "code",
   "execution_count": 20,
   "metadata": {},
   "outputs": [
    {
     "name": "stdout",
     "output_type": "stream",
     "text": [
      "{u'courses': [u'd', u'e'], u'age': 19, u'_id': 4, u'name': u'Joe'}\n"
     ]
    }
   ],
   "source": [
    "for student in mydb.Students.find({'courses':{'$nin':['a','b']}}):\n",
    "    print student"
   ]
  },
  {
   "cell_type": "code",
   "execution_count": 21,
   "metadata": {},
   "outputs": [
    {
     "name": "stdout",
     "output_type": "stream",
     "text": [
      "{u'courses': [u'b', u'c'], u'age': 20, u'_id': 1, u'name': u'John'}\n",
      "{u'courses': [u'a', u'c'], u'age': 23, u'_id': 2, u'name': u'Mike'}\n",
      "{u'courses': [u'b', u'a'], u'age': 19, u'_id': 3, u'name': u'Tom'}\n",
      "{u'courses': [u'e'], u'age': 19, u'_id': 4, u'name': u'Joe'}\n"
     ]
    }
   ],
   "source": [
    "for student in mydb.Students.find({},{'courses':{'$slice':[1,2]}}):\n",
    "    print student"
   ]
  },
  {
   "cell_type": "code",
   "execution_count": 22,
   "metadata": {},
   "outputs": [
    {
     "name": "stdout",
     "output_type": "stream",
     "text": [
      "{u'courses': [u'b', u'c'], u'age': 20, u'_id': 1, u'name': u'John'}\n",
      "{u'courses': [u'a', u'c'], u'age': 23, u'_id': 2, u'name': u'Mike'}\n",
      "{u'courses': [u'b', u'a'], u'age': 19, u'_id': 3, u'name': u'Tom'}\n",
      "{u'courses': [u'd', u'e'], u'age': 19, u'_id': 4, u'name': u'Joe'}\n"
     ]
    }
   ],
   "source": [
    "for student in mydb.Students.find({},{'courses':{'$slice':-2}}):\n",
    "    print student"
   ]
  },
  {
   "cell_type": "code",
   "execution_count": 23,
   "metadata": {},
   "outputs": [
    {
     "name": "stdout",
     "output_type": "stream",
     "text": [
      "{u'courses': [u'a', u'b', u'c'], u'age': 20, u'_id': 1, u'name': u'John'}\n",
      "{u'courses': [u'c', u'b', u'a'], u'age': 19, u'_id': 3, u'name': u'Tom'}\n"
     ]
    }
   ],
   "source": [
    "for student in mydb.Students.find({'courses.1':'b'}):\n",
    "    print student"
   ]
  },
  {
   "cell_type": "code",
   "execution_count": 24,
   "metadata": {},
   "outputs": [
    {
     "name": "stdout",
     "output_type": "stream",
     "text": [
      "{u'courses': [u'a', u'b', u'c'], u'age': 20, u'_id': 1, u'name': u'John'}\n",
      "{u'courses': [u'b', u'a', u'c'], u'age': 23, u'_id': 2, u'name': u'Mike'}\n"
     ]
    }
   ],
   "source": [
    "for student in mydb.Students.find({\n",
    "                                    '$and':[\n",
    "                                        {\n",
    "                                            '$or':[\n",
    "                                                {'age':20},\n",
    "                                                {'age':23}\n",
    "                                            ]\n",
    "                                        },\n",
    "                                        {\n",
    "                                            '$or':[\n",
    "                                                {'courses.1':'a'},\n",
    "                                                {'courses.1':'b'}\n",
    "                                            ]\n",
    "                                        }\n",
    "                                    ]\n",
    "                                }):\n",
    "    print student"
   ]
  },
  {
   "cell_type": "code",
   "execution_count": 25,
   "metadata": {},
   "outputs": [
    {
     "data": {
      "text/html": [
       "<div>\n",
       "<style scoped>\n",
       "    .dataframe tbody tr th:only-of-type {\n",
       "        vertical-align: middle;\n",
       "    }\n",
       "\n",
       "    .dataframe tbody tr th {\n",
       "        vertical-align: top;\n",
       "    }\n",
       "\n",
       "    .dataframe thead th {\n",
       "        text-align: right;\n",
       "    }\n",
       "</style>\n",
       "<table border=\"1\" class=\"dataframe\">\n",
       "  <thead>\n",
       "    <tr style=\"text-align: right;\">\n",
       "      <th></th>\n",
       "      <th>_id</th>\n",
       "      <th>age</th>\n",
       "      <th>courses</th>\n",
       "      <th>name</th>\n",
       "    </tr>\n",
       "  </thead>\n",
       "  <tbody>\n",
       "    <tr>\n",
       "      <th>0</th>\n",
       "      <td>1</td>\n",
       "      <td>20</td>\n",
       "      <td>[b, c]</td>\n",
       "      <td>John</td>\n",
       "    </tr>\n",
       "    <tr>\n",
       "      <th>1</th>\n",
       "      <td>2</td>\n",
       "      <td>23</td>\n",
       "      <td>[a, c]</td>\n",
       "      <td>Mike</td>\n",
       "    </tr>\n",
       "    <tr>\n",
       "      <th>2</th>\n",
       "      <td>3</td>\n",
       "      <td>19</td>\n",
       "      <td>[b, a]</td>\n",
       "      <td>Tom</td>\n",
       "    </tr>\n",
       "    <tr>\n",
       "      <th>3</th>\n",
       "      <td>4</td>\n",
       "      <td>19</td>\n",
       "      <td>[d, e]</td>\n",
       "      <td>Joe</td>\n",
       "    </tr>\n",
       "  </tbody>\n",
       "</table>\n",
       "</div>"
      ],
      "text/plain": [
       "   _id  age courses  name\n",
       "0    1   20  [b, c]  John\n",
       "1    2   23  [a, c]  Mike\n",
       "2    3   19  [b, a]   Tom\n",
       "3    4   19  [d, e]   Joe"
      ]
     },
     "execution_count": 25,
     "metadata": {},
     "output_type": "execute_result"
    }
   ],
   "source": [
    "import pandas as pd\n",
    "cursor = mydb.Students.find({},{'courses':{'$slice':-2}})\n",
    "pd.DataFrame(list(cursor))"
   ]
  }
 ],
 "metadata": {
  "kernelspec": {
   "display_name": "Python 2",
   "language": "python",
   "name": "python2"
  },
  "language_info": {
   "codemirror_mode": {
    "name": "ipython",
    "version": 2
   },
   "file_extension": ".py",
   "mimetype": "text/x-python",
   "name": "python",
   "nbconvert_exporter": "python",
   "pygments_lexer": "ipython2",
   "version": "2.7.12"
  }
 },
 "nbformat": 4,
 "nbformat_minor": 2
}
